{
 "cells": [
  {
   "cell_type": "code",
   "execution_count": 3,
   "id": "b7b731b4",
   "metadata": {},
   "outputs": [],
   "source": [
    "import pandas as pd"
   ]
  },
  {
   "cell_type": "code",
   "execution_count": 4,
   "id": "0cca06a0",
   "metadata": {},
   "outputs": [],
   "source": [
    "import matplotlib.pyplot as plt"
   ]
  },
  {
   "cell_type": "code",
   "execution_count": 5,
   "id": "bc6954e2",
   "metadata": {},
   "outputs": [],
   "source": [
    "df = pd.read_csv(\"C:\\\\Users\\\\91996\\\\Desktop\\\\rental data.csv\") "
   ]
  },
  {
   "cell_type": "code",
   "execution_count": 6,
   "id": "76224b6d",
   "metadata": {},
   "outputs": [
    {
     "data": {
      "text/html": [
       "<div>\n",
       "<style scoped>\n",
       "    .dataframe tbody tr th:only-of-type {\n",
       "        vertical-align: middle;\n",
       "    }\n",
       "\n",
       "    .dataframe tbody tr th {\n",
       "        vertical-align: top;\n",
       "    }\n",
       "\n",
       "    .dataframe thead th {\n",
       "        text-align: right;\n",
       "    }\n",
       "</style>\n",
       "<table border=\"1\" class=\"dataframe\">\n",
       "  <thead>\n",
       "    <tr style=\"text-align: right;\">\n",
       "      <th></th>\n",
       "      <th>year</th>\n",
       "      <th>month</th>\n",
       "      <th>day</th>\n",
       "      <th>hour</th>\n",
       "      <th>member</th>\n",
       "      <th>weekend</th>\n",
       "      <th>season</th>\n",
       "      <th>temperature</th>\n",
       "      <th>dewpoint</th>\n",
       "      <th>humidity</th>\n",
       "      <th>windspeed</th>\n",
       "      <th>windgust</th>\n",
       "      <th>pressure</th>\n",
       "      <th>precip</th>\n",
       "      <th>precipaccum</th>\n",
       "      <th>weather</th>\n",
       "      <th>rental</th>\n",
       "    </tr>\n",
       "  </thead>\n",
       "  <tbody>\n",
       "    <tr>\n",
       "      <th>0</th>\n",
       "      <td>2016</td>\n",
       "      <td>10</td>\n",
       "      <td>1</td>\n",
       "      <td>0</td>\n",
       "      <td>80</td>\n",
       "      <td>1</td>\n",
       "      <td>fall</td>\n",
       "      <td>18.33</td>\n",
       "      <td>65.0</td>\n",
       "      <td>100.0</td>\n",
       "      <td>6.0</td>\n",
       "      <td>0.0</td>\n",
       "      <td>30.1</td>\n",
       "      <td>0.0</td>\n",
       "      <td>0.0</td>\n",
       "      <td>3</td>\n",
       "      <td>103</td>\n",
       "    </tr>\n",
       "    <tr>\n",
       "      <th>1</th>\n",
       "      <td>2016</td>\n",
       "      <td>10</td>\n",
       "      <td>1</td>\n",
       "      <td>1</td>\n",
       "      <td>53</td>\n",
       "      <td>1</td>\n",
       "      <td>fall</td>\n",
       "      <td>17.78</td>\n",
       "      <td>64.0</td>\n",
       "      <td>100.0</td>\n",
       "      <td>10.0</td>\n",
       "      <td>0.0</td>\n",
       "      <td>30.1</td>\n",
       "      <td>0.0</td>\n",
       "      <td>0.0</td>\n",
       "      <td>3</td>\n",
       "      <td>63</td>\n",
       "    </tr>\n",
       "    <tr>\n",
       "      <th>2</th>\n",
       "      <td>2016</td>\n",
       "      <td>10</td>\n",
       "      <td>1</td>\n",
       "      <td>2</td>\n",
       "      <td>27</td>\n",
       "      <td>1</td>\n",
       "      <td>fall</td>\n",
       "      <td>17.78</td>\n",
       "      <td>64.0</td>\n",
       "      <td>100.0</td>\n",
       "      <td>10.0</td>\n",
       "      <td>0.0</td>\n",
       "      <td>30.1</td>\n",
       "      <td>0.0</td>\n",
       "      <td>0.0</td>\n",
       "      <td>3</td>\n",
       "      <td>33</td>\n",
       "    </tr>\n",
       "    <tr>\n",
       "      <th>3</th>\n",
       "      <td>2016</td>\n",
       "      <td>10</td>\n",
       "      <td>1</td>\n",
       "      <td>3</td>\n",
       "      <td>20</td>\n",
       "      <td>1</td>\n",
       "      <td>fall</td>\n",
       "      <td>17.78</td>\n",
       "      <td>64.0</td>\n",
       "      <td>100.0</td>\n",
       "      <td>10.0</td>\n",
       "      <td>0.0</td>\n",
       "      <td>30.1</td>\n",
       "      <td>0.1</td>\n",
       "      <td>0.0</td>\n",
       "      <td>3</td>\n",
       "      <td>23</td>\n",
       "    </tr>\n",
       "    <tr>\n",
       "      <th>4</th>\n",
       "      <td>2016</td>\n",
       "      <td>10</td>\n",
       "      <td>1</td>\n",
       "      <td>4</td>\n",
       "      <td>11</td>\n",
       "      <td>1</td>\n",
       "      <td>fall</td>\n",
       "      <td>17.78</td>\n",
       "      <td>64.0</td>\n",
       "      <td>100.0</td>\n",
       "      <td>9.0</td>\n",
       "      <td>0.0</td>\n",
       "      <td>30.1</td>\n",
       "      <td>0.0</td>\n",
       "      <td>0.0</td>\n",
       "      <td>3</td>\n",
       "      <td>11</td>\n",
       "    </tr>\n",
       "  </tbody>\n",
       "</table>\n",
       "</div>"
      ],
      "text/plain": [
       "   year  month  day  hour  member  weekend season  temperature  dewpoint  \\\n",
       "0  2016     10    1     0      80        1   fall        18.33      65.0   \n",
       "1  2016     10    1     1      53        1   fall        17.78      64.0   \n",
       "2  2016     10    1     2      27        1   fall        17.78      64.0   \n",
       "3  2016     10    1     3      20        1   fall        17.78      64.0   \n",
       "4  2016     10    1     4      11        1   fall        17.78      64.0   \n",
       "\n",
       "   humidity  windspeed  windgust  pressure  precip  precipaccum  weather  \\\n",
       "0     100.0        6.0       0.0      30.1     0.0          0.0        3   \n",
       "1     100.0       10.0       0.0      30.1     0.0          0.0        3   \n",
       "2     100.0       10.0       0.0      30.1     0.0          0.0        3   \n",
       "3     100.0       10.0       0.0      30.1     0.1          0.0        3   \n",
       "4     100.0        9.0       0.0      30.1     0.0          0.0        3   \n",
       "\n",
       "   rental  \n",
       "0     103  \n",
       "1      63  \n",
       "2      33  \n",
       "3      23  \n",
       "4      11  "
      ]
     },
     "execution_count": 6,
     "metadata": {},
     "output_type": "execute_result"
    }
   ],
   "source": [
    "df.head()"
   ]
  },
  {
   "cell_type": "code",
   "execution_count": 7,
   "id": "ca7ebc4c",
   "metadata": {},
   "outputs": [
    {
     "name": "stdout",
     "output_type": "stream",
     "text": [
      "<class 'pandas.core.frame.DataFrame'>\n",
      "RangeIndex: 17466 entries, 0 to 17465\n",
      "Data columns (total 17 columns):\n",
      " #   Column       Non-Null Count  Dtype  \n",
      "---  ------       --------------  -----  \n",
      " 0   year         17466 non-null  int64  \n",
      " 1   month        17466 non-null  int64  \n",
      " 2   day          17466 non-null  int64  \n",
      " 3   hour         17466 non-null  int64  \n",
      " 4   member       17466 non-null  int64  \n",
      " 5   weekend      17466 non-null  int64  \n",
      " 6   season       17466 non-null  object \n",
      " 7   temperature  17466 non-null  float64\n",
      " 8   dewpoint     17466 non-null  float64\n",
      " 9   humidity     17466 non-null  float64\n",
      " 10  windspeed    17466 non-null  float64\n",
      " 11  windgust     17466 non-null  float64\n",
      " 12  pressure     17466 non-null  float64\n",
      " 13  precip       17466 non-null  float64\n",
      " 14  precipaccum  17466 non-null  float64\n",
      " 15  weather      17466 non-null  int64  \n",
      " 16  rental       17466 non-null  int64  \n",
      "dtypes: float64(8), int64(8), object(1)\n",
      "memory usage: 2.3+ MB\n"
     ]
    }
   ],
   "source": [
    "df.info()"
   ]
  },
  {
   "cell_type": "code",
   "execution_count": 8,
   "id": "b0baa479",
   "metadata": {},
   "outputs": [
    {
     "data": {
      "text/html": [
       "<div>\n",
       "<style scoped>\n",
       "    .dataframe tbody tr th:only-of-type {\n",
       "        vertical-align: middle;\n",
       "    }\n",
       "\n",
       "    .dataframe tbody tr th {\n",
       "        vertical-align: top;\n",
       "    }\n",
       "\n",
       "    .dataframe thead th {\n",
       "        text-align: right;\n",
       "    }\n",
       "</style>\n",
       "<table border=\"1\" class=\"dataframe\">\n",
       "  <thead>\n",
       "    <tr style=\"text-align: right;\">\n",
       "      <th></th>\n",
       "      <th>year</th>\n",
       "      <th>month</th>\n",
       "      <th>day</th>\n",
       "      <th>hour</th>\n",
       "      <th>member</th>\n",
       "      <th>weekend</th>\n",
       "      <th>temperature</th>\n",
       "      <th>dewpoint</th>\n",
       "      <th>humidity</th>\n",
       "      <th>windspeed</th>\n",
       "      <th>windgust</th>\n",
       "      <th>pressure</th>\n",
       "      <th>precip</th>\n",
       "      <th>precipaccum</th>\n",
       "      <th>weather</th>\n",
       "      <th>rental</th>\n",
       "    </tr>\n",
       "  </thead>\n",
       "  <tbody>\n",
       "    <tr>\n",
       "      <th>count</th>\n",
       "      <td>17466.000000</td>\n",
       "      <td>17466.000000</td>\n",
       "      <td>17466.000000</td>\n",
       "      <td>17466.000000</td>\n",
       "      <td>17466.000000</td>\n",
       "      <td>17466.000000</td>\n",
       "      <td>17466.000000</td>\n",
       "      <td>17466.000000</td>\n",
       "      <td>17466.000000</td>\n",
       "      <td>17466.000000</td>\n",
       "      <td>17466.000000</td>\n",
       "      <td>17466.000000</td>\n",
       "      <td>17466.000000</td>\n",
       "      <td>17466.000000</td>\n",
       "      <td>17466.000000</td>\n",
       "      <td>17466.000000</td>\n",
       "    </tr>\n",
       "    <tr>\n",
       "      <th>mean</th>\n",
       "      <td>2017.246822</td>\n",
       "      <td>6.522902</td>\n",
       "      <td>15.704569</td>\n",
       "      <td>11.518321</td>\n",
       "      <td>317.602657</td>\n",
       "      <td>0.287759</td>\n",
       "      <td>15.557475</td>\n",
       "      <td>47.166089</td>\n",
       "      <td>65.172028</td>\n",
       "      <td>8.811951</td>\n",
       "      <td>3.095630</td>\n",
       "      <td>30.047717</td>\n",
       "      <td>0.003403</td>\n",
       "      <td>0.003845</td>\n",
       "      <td>1.774820</td>\n",
       "      <td>420.144910</td>\n",
       "    </tr>\n",
       "    <tr>\n",
       "      <th>std</th>\n",
       "      <td>0.662303</td>\n",
       "      <td>3.451445</td>\n",
       "      <td>8.791244</td>\n",
       "      <td>6.921848</td>\n",
       "      <td>315.397551</td>\n",
       "      <td>0.452731</td>\n",
       "      <td>9.794618</td>\n",
       "      <td>19.570545</td>\n",
       "      <td>19.549624</td>\n",
       "      <td>5.104676</td>\n",
       "      <td>8.664425</td>\n",
       "      <td>0.390741</td>\n",
       "      <td>0.029175</td>\n",
       "      <td>0.065460</td>\n",
       "      <td>0.703245</td>\n",
       "      <td>402.473513</td>\n",
       "    </tr>\n",
       "    <tr>\n",
       "      <th>min</th>\n",
       "      <td>2016.000000</td>\n",
       "      <td>1.000000</td>\n",
       "      <td>1.000000</td>\n",
       "      <td>0.000000</td>\n",
       "      <td>0.000000</td>\n",
       "      <td>0.000000</td>\n",
       "      <td>-12.780000</td>\n",
       "      <td>0.000000</td>\n",
       "      <td>13.000000</td>\n",
       "      <td>0.000000</td>\n",
       "      <td>0.000000</td>\n",
       "      <td>0.000000</td>\n",
       "      <td>0.000000</td>\n",
       "      <td>0.000000</td>\n",
       "      <td>1.000000</td>\n",
       "      <td>0.000000</td>\n",
       "    </tr>\n",
       "    <tr>\n",
       "      <th>25%</th>\n",
       "      <td>2017.000000</td>\n",
       "      <td>4.000000</td>\n",
       "      <td>8.000000</td>\n",
       "      <td>6.000000</td>\n",
       "      <td>63.000000</td>\n",
       "      <td>0.000000</td>\n",
       "      <td>7.780000</td>\n",
       "      <td>32.000000</td>\n",
       "      <td>49.000000</td>\n",
       "      <td>6.000000</td>\n",
       "      <td>0.000000</td>\n",
       "      <td>29.900000</td>\n",
       "      <td>0.000000</td>\n",
       "      <td>0.000000</td>\n",
       "      <td>1.000000</td>\n",
       "      <td>77.000000</td>\n",
       "    </tr>\n",
       "    <tr>\n",
       "      <th>50%</th>\n",
       "      <td>2017.000000</td>\n",
       "      <td>7.000000</td>\n",
       "      <td>16.000000</td>\n",
       "      <td>12.000000</td>\n",
       "      <td>244.000000</td>\n",
       "      <td>0.000000</td>\n",
       "      <td>16.670000</td>\n",
       "      <td>50.000000</td>\n",
       "      <td>66.000000</td>\n",
       "      <td>8.000000</td>\n",
       "      <td>0.000000</td>\n",
       "      <td>30.000000</td>\n",
       "      <td>0.000000</td>\n",
       "      <td>0.000000</td>\n",
       "      <td>2.000000</td>\n",
       "      <td>315.500000</td>\n",
       "    </tr>\n",
       "    <tr>\n",
       "      <th>75%</th>\n",
       "      <td>2018.000000</td>\n",
       "      <td>10.000000</td>\n",
       "      <td>23.000000</td>\n",
       "      <td>18.000000</td>\n",
       "      <td>455.750000</td>\n",
       "      <td>1.000000</td>\n",
       "      <td>23.890000</td>\n",
       "      <td>64.310000</td>\n",
       "      <td>82.000000</td>\n",
       "      <td>12.000000</td>\n",
       "      <td>0.000000</td>\n",
       "      <td>30.200000</td>\n",
       "      <td>0.000000</td>\n",
       "      <td>0.000000</td>\n",
       "      <td>2.000000</td>\n",
       "      <td>634.000000</td>\n",
       "    </tr>\n",
       "    <tr>\n",
       "      <th>max</th>\n",
       "      <td>2018.000000</td>\n",
       "      <td>12.000000</td>\n",
       "      <td>31.000000</td>\n",
       "      <td>23.000000</td>\n",
       "      <td>1639.000000</td>\n",
       "      <td>1.000000</td>\n",
       "      <td>36.110000</td>\n",
       "      <td>80.000000</td>\n",
       "      <td>100.000000</td>\n",
       "      <td>44.000000</td>\n",
       "      <td>59.000000</td>\n",
       "      <td>30.800000</td>\n",
       "      <td>1.320000</td>\n",
       "      <td>4.000000</td>\n",
       "      <td>4.000000</td>\n",
       "      <td>2038.000000</td>\n",
       "    </tr>\n",
       "  </tbody>\n",
       "</table>\n",
       "</div>"
      ],
      "text/plain": [
       "               year         month           day          hour        member  \\\n",
       "count  17466.000000  17466.000000  17466.000000  17466.000000  17466.000000   \n",
       "mean    2017.246822      6.522902     15.704569     11.518321    317.602657   \n",
       "std        0.662303      3.451445      8.791244      6.921848    315.397551   \n",
       "min     2016.000000      1.000000      1.000000      0.000000      0.000000   \n",
       "25%     2017.000000      4.000000      8.000000      6.000000     63.000000   \n",
       "50%     2017.000000      7.000000     16.000000     12.000000    244.000000   \n",
       "75%     2018.000000     10.000000     23.000000     18.000000    455.750000   \n",
       "max     2018.000000     12.000000     31.000000     23.000000   1639.000000   \n",
       "\n",
       "            weekend   temperature      dewpoint      humidity     windspeed  \\\n",
       "count  17466.000000  17466.000000  17466.000000  17466.000000  17466.000000   \n",
       "mean       0.287759     15.557475     47.166089     65.172028      8.811951   \n",
       "std        0.452731      9.794618     19.570545     19.549624      5.104676   \n",
       "min        0.000000    -12.780000      0.000000     13.000000      0.000000   \n",
       "25%        0.000000      7.780000     32.000000     49.000000      6.000000   \n",
       "50%        0.000000     16.670000     50.000000     66.000000      8.000000   \n",
       "75%        1.000000     23.890000     64.310000     82.000000     12.000000   \n",
       "max        1.000000     36.110000     80.000000    100.000000     44.000000   \n",
       "\n",
       "           windgust      pressure        precip   precipaccum       weather  \\\n",
       "count  17466.000000  17466.000000  17466.000000  17466.000000  17466.000000   \n",
       "mean       3.095630     30.047717      0.003403      0.003845      1.774820   \n",
       "std        8.664425      0.390741      0.029175      0.065460      0.703245   \n",
       "min        0.000000      0.000000      0.000000      0.000000      1.000000   \n",
       "25%        0.000000     29.900000      0.000000      0.000000      1.000000   \n",
       "50%        0.000000     30.000000      0.000000      0.000000      2.000000   \n",
       "75%        0.000000     30.200000      0.000000      0.000000      2.000000   \n",
       "max       59.000000     30.800000      1.320000      4.000000      4.000000   \n",
       "\n",
       "             rental  \n",
       "count  17466.000000  \n",
       "mean     420.144910  \n",
       "std      402.473513  \n",
       "min        0.000000  \n",
       "25%       77.000000  \n",
       "50%      315.500000  \n",
       "75%      634.000000  \n",
       "max     2038.000000  "
      ]
     },
     "execution_count": 8,
     "metadata": {},
     "output_type": "execute_result"
    }
   ],
   "source": [
    "df.describe()"
   ]
  },
  {
   "cell_type": "code",
   "execution_count": 9,
   "id": "0134702c",
   "metadata": {},
   "outputs": [
    {
     "data": {
      "text/plain": [
       "array([10, 11, 12,  1,  2,  3,  4,  5,  6,  7,  8,  9], dtype=int64)"
      ]
     },
     "execution_count": 9,
     "metadata": {},
     "output_type": "execute_result"
    }
   ],
   "source": [
    "# finding the unique values of month.\n",
    "df['month'].unique()"
   ]
  },
  {
   "cell_type": "code",
   "execution_count": 10,
   "id": "50de98c2",
   "metadata": {},
   "outputs": [],
   "source": [
    "# finding sum of rentals of each month\n",
    "import seaborn as sns"
   ]
  },
  {
   "cell_type": "code",
   "execution_count": 11,
   "id": "48100f84",
   "metadata": {},
   "outputs": [],
   "source": [
    "month_rental=[]\n",
    "month=[x+1 for x in range(12)]\n",
    "for i in range(12):\n",
    "    month_rental.append(df[df['month']==i+1]['rental'].sum())"
   ]
  },
  {
   "cell_type": "code",
   "execution_count": 12,
   "id": "419a6e95",
   "metadata": {},
   "outputs": [
    {
     "data": {
      "text/plain": [
       "[Text(0, 0.5, 'month_rental'), Text(0.5, 0, 'month')]"
      ]
     },
     "execution_count": 12,
     "metadata": {},
     "output_type": "execute_result"
    },
    {
     "data": {
      "image/png": "[encoded data removed]",
      "text/plain": [
       "<Figure size 432x288 with 1 Axes>"
      ]
     },
     "metadata": {
      "needs_background": "light"
     },
     "output_type": "display_data"
    }
   ],
   "source": [
    "import matplotlib.pyplot as plt\n",
    "fig= sns.barplot(y=month_rental, x=month, palette=\"deep\")\n",
    "fig.set(ylabel='month_rental', xlabel ='month')"
   ]
  },
  {
   "cell_type": "code",
   "execution_count": 13,
   "id": "f0988b49",
   "metadata": {},
   "outputs": [
    {
     "data": {
      "text/plain": [
       "array([2016, 2017, 2018], dtype=int64)"
      ]
     },
     "execution_count": 13,
     "metadata": {},
     "output_type": "execute_result"
    }
   ],
   "source": [
    "# finding the unique values of year\n",
    "df['year'].unique()"
   ]
  },
  {
   "cell_type": "code",
   "execution_count": 14,
   "id": "daef2599",
   "metadata": {},
   "outputs": [],
   "source": [
    "# finding the sum of rentals of each year \n",
    "year_rental=[]\n",
    "year=[2016,2017,2018]\n",
    "year_rental.append(df[df['year']==2016]['rental'].sum())\n",
    "year_rental.append(df[df['year']==2017]['rental'].sum())\n",
    "year_rental.append(df[df['year']==2018]['rental'].sum())"
   ]
  },
  {
   "cell_type": "code",
   "execution_count": 15,
   "id": "e35be70a",
   "metadata": {},
   "outputs": [
    {
     "data": {
      "image/png": "[encoded data removed]",
      "text/plain": [
       "<Figure size 432x288 with 1 Axes>"
      ]
     },
     "metadata": {
      "needs_background": "light"
     },
     "output_type": "display_data"
    }
   ],
   "source": [
    "import seaborn as sns\n",
    "fig= sns.barplot(y=year_rental, x=year, palette=\"deep\")\n",
    "fig.set(xlabel=\"year\",ylabel=\"year_rental\")\n",
    "plt.show()"
   ]
  },
  {
   "cell_type": "code",
   "execution_count": 16,
   "id": "5ba71097",
   "metadata": {},
   "outputs": [],
   "source": [
    "# finding the average rentals of each year\n",
    "year_rental_avg=[]\n",
    "year_rental_avg.append(df[df['year']==2016]['rental'].mean())\n",
    "year_rental_avg.append(df[df['year']==2017]['rental'].mean())\n",
    "year_rental_avg.append(df[df['year']==2018]['rental'].mean())"
   ]
  },
  {
   "cell_type": "code",
   "execution_count": 17,
   "id": "344ac5f3",
   "metadata": {},
   "outputs": [
    {
     "data": {
      "text/plain": [
       "[349.3457181694608, 429.59352476833317, 431.44645596808834]"
      ]
     },
     "execution_count": 17,
     "metadata": {},
     "output_type": "execute_result"
    }
   ],
   "source": [
    "year_rental_avg"
   ]
  },
  {
   "cell_type": "code",
   "execution_count": 18,
   "id": "5f3ffad8",
   "metadata": {},
   "outputs": [
    {
     "data": {
      "image/png": "[encoded data removed]",
      "text/plain": [
       "<Figure size 432x288 with 1 Axes>"
      ]
     },
     "metadata": {
      "needs_background": "light"
     },
     "output_type": "display_data"
    }
   ],
   "source": [
    "fig= sns.barplot(y=year_rental_avg, x=year, palette=\"deep\")\n",
    "fig.set(xlabel=\"year\",ylabel=\" average rentals\")\n",
    "plt.show()"
   ]
  },
  {
   "cell_type": "code",
   "execution_count": 19,
   "id": "e1c55d01",
   "metadata": {},
   "outputs": [],
   "source": [
    "# separating weekends and weekdays\n",
    "df_weekends=df[df['weekend']==1]\n",
    "df_weekdays=df[df['weekend']==0]"
   ]
  },
  {
   "cell_type": "code",
   "execution_count": 20,
   "id": "f8428d26",
   "metadata": {},
   "outputs": [
    {
     "data": {
      "text/plain": [
       "<AxesSubplot:xlabel='hour', ylabel='rental'>"
      ]
     },
     "execution_count": 20,
     "metadata": {},
     "output_type": "execute_result"
    },
    {
     "data": {
      "image/png": "[encoded data removed]",
      "text/plain": [
       "<Figure size 432x288 with 1 Axes>"
      ]
     },
     "metadata": {
      "needs_background": "light"
     },
     "output_type": "display_data"
    }
   ],
   "source": [
    "# plotting rental for each hour for the weekend and weekdays\n",
    "import seaborn as sns\n",
    "sns.lineplot(data=df, x=\"hour\", y=\"rental\",hue='weekend')"
   ]
  },
  {
   "cell_type": "code",
   "execution_count": 21,
   "id": "f192ae82",
   "metadata": {},
   "outputs": [],
   "source": [
    "\n",
    "hour_rental=[]\n",
    "hour=[x for x in range(24)]\n",
    "for i in range(24):\n",
    "    hour_rental.append(df[df['hour']==i]['rental'].sum())"
   ]
  },
  {
   "cell_type": "code",
   "execution_count": 22,
   "id": "aae0c398",
   "metadata": {},
   "outputs": [
    {
     "data": {
      "text/plain": [
       "[Text(0.5, 0, 'hour'), Text(0, 0.5, 'hourly rentals')]"
      ]
     },
     "execution_count": 22,
     "metadata": {},
     "output_type": "execute_result"
    },
    {
     "data": {
      "image/png": "[encoded data removed]",
      "text/plain": [
       "<Figure size 432x288 with 1 Axes>"
      ]
     },
     "metadata": {
      "needs_background": "light"
     },
     "output_type": "display_data"
    }
   ],
   "source": [
    "# plotting the hourly rentals\n",
    "fig= sns.barplot(y=hour_rental, x=hour, palette=\"deep\")\n",
    "fig.set(xlabel=\"hour\",ylabel=\"hourly rentals\")"
   ]
  },
  {
   "cell_type": "code",
   "execution_count": 23,
   "id": "187108b0",
   "metadata": {},
   "outputs": [
    {
     "data": {
      "text/plain": [
       "<AxesSubplot:xlabel='temperature', ylabel='rental'>"
      ]
     },
     "execution_count": 23,
     "metadata": {},
     "output_type": "execute_result"
    },
    {
     "data": {
      "image/png": "[encoded data removed]",
      "text/plain": [
       "<Figure size 432x288 with 1 Axes>"
      ]
     },
     "metadata": {
      "needs_background": "light"
     },
     "output_type": "display_data"
    }
   ],
   "source": [
    "# plotting the histogram for the temperature variation for the rental\n",
    "sns.histplot(data=df, x=\"temperature\", y=\"rental\")"
   ]
  },
  {
   "cell_type": "code",
   "execution_count": 24,
   "id": "2d876be8",
   "metadata": {},
   "outputs": [
    {
     "data": {
      "text/plain": [
       "Text(0.5, 1.0, 'temperature variation for the rental')"
      ]
     },
     "execution_count": 24,
     "metadata": {},
     "output_type": "execute_result"
    },
    {
     "data": {
      "image/png": "[encoded data removed]",
      "text/plain": [
       "<Figure size 432x288 with 1 Axes>"
      ]
     },
     "metadata": {
      "needs_background": "light"
     },
     "output_type": "display_data"
    }
   ],
   "source": [
    "plt.plot(df['temperature'],df['rental'])\n",
    "plt.title(\"temperature variation for the rental\")"
   ]
  },
  {
   "cell_type": "code",
   "execution_count": 25,
   "id": "d9227ab3",
   "metadata": {},
   "outputs": [
    {
     "data": {
      "text/plain": [
       "<AxesSubplot:xlabel='hour', ylabel='rental'>"
      ]
     },
     "execution_count": 25,
     "metadata": {},
     "output_type": "execute_result"
    },
    {
     "data": {
      "image/png": "[encoded data removed]",
      "text/plain": [
       "<Figure size 432x288 with 1 Axes>"
      ]
     },
     "metadata": {
      "needs_background": "light"
     },
     "output_type": "display_data"
    }
   ],
   "source": [
    "# plotting the rentals according to the weather\n",
    "import seaborn as sns\n",
    "sns.lineplot(data=df, x=\"hour\", y=\"rental\",hue='weather')\n",
    "# weather-1 =fair/windy\n",
    "# weather-2 = mostly cloudy/windy\n",
    "# weather-3 = light drizzle\n",
    "# weather-4 = haze, heavyrain/windy"
   ]
  },
  {
   "cell_type": "code",
   "execution_count": 26,
   "id": "05e88df5",
   "metadata": {},
   "outputs": [
    {
     "data": {
      "text/plain": [
       "<AxesSubplot:xlabel='windspeed', ylabel='rental'>"
      ]
     },
     "execution_count": 26,
     "metadata": {},
     "output_type": "execute_result"
    },
    {
     "data": {
      "image/png": "[encoded data removed]",
      "text/plain": [
       "<Figure size 432x288 with 1 Axes>"
      ]
     },
     "metadata": {
      "needs_background": "light"
     },
     "output_type": "display_data"
    }
   ],
   "source": [
    "# plotting the relationship between windspeed and rentals\n",
    "sns.scatterplot(data=df, x=\"windspeed\", y=\"rental\")"
   ]
  },
  {
   "cell_type": "code",
   "execution_count": 27,
   "id": "e62bf21c",
   "metadata": {},
   "outputs": [
    {
     "data": {
      "text/plain": [
       "<AxesSubplot:xlabel='humidity', ylabel='rental'>"
      ]
     },
     "execution_count": 27,
     "metadata": {},
     "output_type": "execute_result"
    },
    {
     "data": {
      "image/png": "[encoded data removed]",
      "text/plain": [
       "<Figure size 432x288 with 1 Axes>"
      ]
     },
     "metadata": {
      "needs_background": "light"
     },
     "output_type": "display_data"
    }
   ],
   "source": [
    "# lineplotting to get relationship between rentals and humidity\n",
    "sns.lineplot(data=df, x=\"humidity\", y=\"rental\")"
   ]
  },
  {
   "cell_type": "code",
   "execution_count": 28,
   "id": "fbb0e7e9",
   "metadata": {},
   "outputs": [
    {
     "data": {
      "text/plain": [
       "<AxesSubplot:xlabel='hour', ylabel='rental'>"
      ]
     },
     "execution_count": 28,
     "metadata": {},
     "output_type": "execute_result"
    },
    {
     "data": {
      "image/png": "[encoded data removed]",
      "text/plain": [
       "<Figure size 432x288 with 1 Axes>"
      ]
     },
     "metadata": {
      "needs_background": "light"
     },
     "output_type": "display_data"
    }
   ],
   "source": [
    "# Getting the relationship between the different seasons for the demand of rentals\n",
    "import seaborn as sns\n",
    "sns.lineplot(data=df, x=\"hour\", y=\"rental\",hue='season')"
   ]
  },
  {
   "cell_type": "code",
   "execution_count": 29,
   "id": "503c3298",
   "metadata": {},
   "outputs": [
    {
     "data": {
      "text/plain": [
       "<seaborn.axisgrid.FacetGrid at 0x1f9edff04f0>"
      ]
     },
     "execution_count": 29,
     "metadata": {},
     "output_type": "execute_result"
    },
    {
     "data": {
      "image/png": "[encoded data removed]",
      "text/plain": [
       "<Figure size 360x360 with 1 Axes>"
      ]
     },
     "metadata": {
      "needs_background": "light"
     },
     "output_type": "display_data"
    }
   ],
   "source": [
    "# probability density function of rentals\n",
    "import seaborn as sns\n",
    "sns.displot(data=df, x=\"rental\", kind=\"kde\")"
   ]
  },
  {
   "cell_type": "code",
   "execution_count": 33,
   "id": "221d320b",
   "metadata": {},
   "outputs": [
    {
     "data": {
      "text/plain": [
       "<AxesSubplot:>"
      ]
     },
     "execution_count": 33,
     "metadata": {},
     "output_type": "execute_result"
    },
    {
     "data": {
      "image/png": "[encoded data removed]",
      "text/plain": [
       "<Figure size 720x576 with 1 Axes>"
      ]
     },
     "metadata": {
      "needs_background": "light"
     },
     "output_type": "display_data"
    }
   ],
   "source": [
    "# Checking how atmospheric conditions vary across the data\n",
    "plt.rcParams['figure.figsize'] = [10,8]\n",
    "sns.boxplot(data= df.loc[:,['temperature','dewpoint','humidity','windspeed','windgust','pressure','precip','precipaccum']])"
   ]
  },
  {
   "cell_type": "code",
   "execution_count": 1,
   "id": "fb73242d",
   "metadata": {},
   "outputs": [],
   "source": [
    "#creating a model to predict\n",
    "import pandas as pd\n",
    "import numpy as np\n",
    "from math import sqrt\n",
    "import matplotlib.pyplot as plt\n",
    "from sklearn.linear_model import LinearRegression\n",
    "from sklearn.model_selection import train_test_split\n",
    "from sklearn.metrics import mean_squared_error\n",
    "from sklearn.metrics import mean_absolute_error"
   ]
  },
  {
   "cell_type": "code",
   "execution_count": 2,
   "id": "017a35fd",
   "metadata": {},
   "outputs": [],
   "source": [
    "df = pd.read_csv(\"C:\\\\Users\\\\91996\\\\Desktop\\\\rental data.csv\") "
   ]
  },
  {
   "cell_type": "code",
   "execution_count": 3,
   "id": "bbdd428a",
   "metadata": {},
   "outputs": [
    {
     "data": {
      "text/html": [
       "<div>\n",
       "<style scoped>\n",
       "    .dataframe tbody tr th:only-of-type {\n",
       "        vertical-align: middle;\n",
       "    }\n",
       "\n",
       "    .dataframe tbody tr th {\n",
       "        vertical-align: top;\n",
       "    }\n",
       "\n",
       "    .dataframe thead th {\n",
       "        text-align: right;\n",
       "    }\n",
       "</style>\n",
       "<table border=\"1\" class=\"dataframe\">\n",
       "  <thead>\n",
       "    <tr style=\"text-align: right;\">\n",
       "      <th></th>\n",
       "      <th>year</th>\n",
       "      <th>month</th>\n",
       "      <th>day</th>\n",
       "      <th>hour</th>\n",
       "      <th>member</th>\n",
       "      <th>weekend</th>\n",
       "      <th>season</th>\n",
       "      <th>temperature</th>\n",
       "      <th>dewpoint</th>\n",
       "      <th>humidity</th>\n",
       "      <th>windspeed</th>\n",
       "      <th>windgust</th>\n",
       "      <th>pressure</th>\n",
       "      <th>precip</th>\n",
       "      <th>precipaccum</th>\n",
       "      <th>weather</th>\n",
       "      <th>rental</th>\n",
       "    </tr>\n",
       "  </thead>\n",
       "  <tbody>\n",
       "    <tr>\n",
       "      <th>0</th>\n",
       "      <td>2016</td>\n",
       "      <td>10</td>\n",
       "      <td>1</td>\n",
       "      <td>0</td>\n",
       "      <td>80</td>\n",
       "      <td>1</td>\n",
       "      <td>fall</td>\n",
       "      <td>18.33</td>\n",
       "      <td>65.0</td>\n",
       "      <td>100.0</td>\n",
       "      <td>6.0</td>\n",
       "      <td>0.0</td>\n",
       "      <td>30.1</td>\n",
       "      <td>0.0</td>\n",
       "      <td>0.0</td>\n",
       "      <td>3</td>\n",
       "      <td>103</td>\n",
       "    </tr>\n",
       "    <tr>\n",
       "      <th>1</th>\n",
       "      <td>2016</td>\n",
       "      <td>10</td>\n",
       "      <td>1</td>\n",
       "      <td>1</td>\n",
       "      <td>53</td>\n",
       "      <td>1</td>\n",
       "      <td>fall</td>\n",
       "      <td>17.78</td>\n",
       "      <td>64.0</td>\n",
       "      <td>100.0</td>\n",
       "      <td>10.0</td>\n",
       "      <td>0.0</td>\n",
       "      <td>30.1</td>\n",
       "      <td>0.0</td>\n",
       "      <td>0.0</td>\n",
       "      <td>3</td>\n",
       "      <td>63</td>\n",
       "    </tr>\n",
       "    <tr>\n",
       "      <th>2</th>\n",
       "      <td>2016</td>\n",
       "      <td>10</td>\n",
       "      <td>1</td>\n",
       "      <td>2</td>\n",
       "      <td>27</td>\n",
       "      <td>1</td>\n",
       "      <td>fall</td>\n",
       "      <td>17.78</td>\n",
       "      <td>64.0</td>\n",
       "      <td>100.0</td>\n",
       "      <td>10.0</td>\n",
       "      <td>0.0</td>\n",
       "      <td>30.1</td>\n",
       "      <td>0.0</td>\n",
       "      <td>0.0</td>\n",
       "      <td>3</td>\n",
       "      <td>33</td>\n",
       "    </tr>\n",
       "    <tr>\n",
       "      <th>3</th>\n",
       "      <td>2016</td>\n",
       "      <td>10</td>\n",
       "      <td>1</td>\n",
       "      <td>3</td>\n",
       "      <td>20</td>\n",
       "      <td>1</td>\n",
       "      <td>fall</td>\n",
       "      <td>17.78</td>\n",
       "      <td>64.0</td>\n",
       "      <td>100.0</td>\n",
       "      <td>10.0</td>\n",
       "      <td>0.0</td>\n",
       "      <td>30.1</td>\n",
       "      <td>0.1</td>\n",
       "      <td>0.0</td>\n",
       "      <td>3</td>\n",
       "      <td>23</td>\n",
       "    </tr>\n",
       "    <tr>\n",
       "      <th>4</th>\n",
       "      <td>2016</td>\n",
       "      <td>10</td>\n",
       "      <td>1</td>\n",
       "      <td>4</td>\n",
       "      <td>11</td>\n",
       "      <td>1</td>\n",
       "      <td>fall</td>\n",
       "      <td>17.78</td>\n",
       "      <td>64.0</td>\n",
       "      <td>100.0</td>\n",
       "      <td>9.0</td>\n",
       "      <td>0.0</td>\n",
       "      <td>30.1</td>\n",
       "      <td>0.0</td>\n",
       "      <td>0.0</td>\n",
       "      <td>3</td>\n",
       "      <td>11</td>\n",
       "    </tr>\n",
       "    <tr>\n",
       "      <th>...</th>\n",
       "      <td>...</td>\n",
       "      <td>...</td>\n",
       "      <td>...</td>\n",
       "      <td>...</td>\n",
       "      <td>...</td>\n",
       "      <td>...</td>\n",
       "      <td>...</td>\n",
       "      <td>...</td>\n",
       "      <td>...</td>\n",
       "      <td>...</td>\n",
       "      <td>...</td>\n",
       "      <td>...</td>\n",
       "      <td>...</td>\n",
       "      <td>...</td>\n",
       "      <td>...</td>\n",
       "      <td>...</td>\n",
       "      <td>...</td>\n",
       "    </tr>\n",
       "    <tr>\n",
       "      <th>17461</th>\n",
       "      <td>2018</td>\n",
       "      <td>9</td>\n",
       "      <td>30</td>\n",
       "      <td>19</td>\n",
       "      <td>416</td>\n",
       "      <td>1</td>\n",
       "      <td>fall</td>\n",
       "      <td>21.67</td>\n",
       "      <td>60.0</td>\n",
       "      <td>68.0</td>\n",
       "      <td>5.0</td>\n",
       "      <td>0.0</td>\n",
       "      <td>30.3</td>\n",
       "      <td>0.0</td>\n",
       "      <td>0.0</td>\n",
       "      <td>2</td>\n",
       "      <td>541</td>\n",
       "    </tr>\n",
       "    <tr>\n",
       "      <th>17462</th>\n",
       "      <td>2018</td>\n",
       "      <td>9</td>\n",
       "      <td>30</td>\n",
       "      <td>20</td>\n",
       "      <td>278</td>\n",
       "      <td>1</td>\n",
       "      <td>fall</td>\n",
       "      <td>21.67</td>\n",
       "      <td>61.0</td>\n",
       "      <td>70.0</td>\n",
       "      <td>3.0</td>\n",
       "      <td>0.0</td>\n",
       "      <td>30.3</td>\n",
       "      <td>0.0</td>\n",
       "      <td>0.0</td>\n",
       "      <td>2</td>\n",
       "      <td>379</td>\n",
       "    </tr>\n",
       "    <tr>\n",
       "      <th>17463</th>\n",
       "      <td>2018</td>\n",
       "      <td>9</td>\n",
       "      <td>30</td>\n",
       "      <td>21</td>\n",
       "      <td>233</td>\n",
       "      <td>1</td>\n",
       "      <td>fall</td>\n",
       "      <td>21.11</td>\n",
       "      <td>62.0</td>\n",
       "      <td>76.0</td>\n",
       "      <td>6.0</td>\n",
       "      <td>0.0</td>\n",
       "      <td>30.3</td>\n",
       "      <td>0.0</td>\n",
       "      <td>0.0</td>\n",
       "      <td>2</td>\n",
       "      <td>301</td>\n",
       "    </tr>\n",
       "    <tr>\n",
       "      <th>17464</th>\n",
       "      <td>2018</td>\n",
       "      <td>9</td>\n",
       "      <td>30</td>\n",
       "      <td>22</td>\n",
       "      <td>148</td>\n",
       "      <td>1</td>\n",
       "      <td>fall</td>\n",
       "      <td>20.00</td>\n",
       "      <td>63.0</td>\n",
       "      <td>84.0</td>\n",
       "      <td>8.0</td>\n",
       "      <td>0.0</td>\n",
       "      <td>30.3</td>\n",
       "      <td>0.0</td>\n",
       "      <td>0.0</td>\n",
       "      <td>2</td>\n",
       "      <td>203</td>\n",
       "    </tr>\n",
       "    <tr>\n",
       "      <th>17465</th>\n",
       "      <td>2018</td>\n",
       "      <td>9</td>\n",
       "      <td>30</td>\n",
       "      <td>23</td>\n",
       "      <td>83</td>\n",
       "      <td>1</td>\n",
       "      <td>fall</td>\n",
       "      <td>20.00</td>\n",
       "      <td>62.0</td>\n",
       "      <td>81.0</td>\n",
       "      <td>7.0</td>\n",
       "      <td>0.0</td>\n",
       "      <td>30.3</td>\n",
       "      <td>0.0</td>\n",
       "      <td>0.0</td>\n",
       "      <td>1</td>\n",
       "      <td>113</td>\n",
       "    </tr>\n",
       "  </tbody>\n",
       "</table>\n",
       "<p>17466 rows × 17 columns</p>\n",
       "</div>"
      ],
      "text/plain": [
       "       year  month  day  hour  member  weekend season  temperature  dewpoint  \\\n",
       "0      2016     10    1     0      80        1   fall        18.33      65.0   \n",
       "1      2016     10    1     1      53        1   fall        17.78      64.0   \n",
       "2      2016     10    1     2      27        1   fall        17.78      64.0   \n",
       "3      2016     10    1     3      20        1   fall        17.78      64.0   \n",
       "4      2016     10    1     4      11        1   fall        17.78      64.0   \n",
       "...     ...    ...  ...   ...     ...      ...    ...          ...       ...   \n",
       "17461  2018      9   30    19     416        1   fall        21.67      60.0   \n",
       "17462  2018      9   30    20     278        1   fall        21.67      61.0   \n",
       "17463  2018      9   30    21     233        1   fall        21.11      62.0   \n",
       "17464  2018      9   30    22     148        1   fall        20.00      63.0   \n",
       "17465  2018      9   30    23      83        1   fall        20.00      62.0   \n",
       "\n",
       "       humidity  windspeed  windgust  pressure  precip  precipaccum  weather  \\\n",
       "0         100.0        6.0       0.0      30.1     0.0          0.0        3   \n",
       "1         100.0       10.0       0.0      30.1     0.0          0.0        3   \n",
       "2         100.0       10.0       0.0      30.1     0.0          0.0        3   \n",
       "3         100.0       10.0       0.0      30.1     0.1          0.0        3   \n",
       "4         100.0        9.0       0.0      30.1     0.0          0.0        3   \n",
       "...         ...        ...       ...       ...     ...          ...      ...   \n",
       "17461      68.0        5.0       0.0      30.3     0.0          0.0        2   \n",
       "17462      70.0        3.0       0.0      30.3     0.0          0.0        2   \n",
       "17463      76.0        6.0       0.0      30.3     0.0          0.0        2   \n",
       "17464      84.0        8.0       0.0      30.3     0.0          0.0        2   \n",
       "17465      81.0        7.0       0.0      30.3     0.0          0.0        1   \n",
       "\n",
       "       rental  \n",
       "0         103  \n",
       "1          63  \n",
       "2          33  \n",
       "3          23  \n",
       "4          11  \n",
       "...       ...  \n",
       "17461     541  \n",
       "17462     379  \n",
       "17463     301  \n",
       "17464     203  \n",
       "17465     113  \n",
       "\n",
       "[17466 rows x 17 columns]"
      ]
     },
     "execution_count": 3,
     "metadata": {},
     "output_type": "execute_result"
    }
   ],
   "source": [
    "df"
   ]
  },
  {
   "cell_type": "code",
   "execution_count": 4,
   "id": "71ad7fb2",
   "metadata": {},
   "outputs": [],
   "source": [
    "# we are converting the character values(in season) to binary values\n",
    "from sklearn.preprocessing import OneHotEncoder\n",
    "onehotencoder = OneHotEncoder()\n",
    "x = onehotencoder.fit_transform(np.array(df['season']).reshape((-1,1))).toarray()"
   ]
  },
  {
   "cell_type": "code",
   "execution_count": 5,
   "id": "725367fc",
   "metadata": {},
   "outputs": [
    {
     "data": {
      "text/plain": [
       "array([[1., 0., 0., 0.],\n",
       "       [1., 0., 0., 0.],\n",
       "       [1., 0., 0., 0.],\n",
       "       ...,\n",
       "       [1., 0., 0., 0.],\n",
       "       [1., 0., 0., 0.],\n",
       "       [1., 0., 0., 0.]])"
      ]
     },
     "execution_count": 5,
     "metadata": {},
     "output_type": "execute_result"
    }
   ],
   "source": [
    "x"
   ]
  },
  {
   "cell_type": "code",
   "execution_count": 6,
   "id": "5bf8cd56",
   "metadata": {},
   "outputs": [],
   "source": [
    "df[['fall','winter','spring','summer']]=x"
   ]
  },
  {
   "cell_type": "code",
   "execution_count": 7,
   "id": "dac19513",
   "metadata": {},
   "outputs": [
    {
     "data": {
      "text/html": [
       "<div>\n",
       "<style scoped>\n",
       "    .dataframe tbody tr th:only-of-type {\n",
       "        vertical-align: middle;\n",
       "    }\n",
       "\n",
       "    .dataframe tbody tr th {\n",
       "        vertical-align: top;\n",
       "    }\n",
       "\n",
       "    .dataframe thead th {\n",
       "        text-align: right;\n",
       "    }\n",
       "</style>\n",
       "<table border=\"1\" class=\"dataframe\">\n",
       "  <thead>\n",
       "    <tr style=\"text-align: right;\">\n",
       "      <th></th>\n",
       "      <th>year</th>\n",
       "      <th>month</th>\n",
       "      <th>day</th>\n",
       "      <th>hour</th>\n",
       "      <th>member</th>\n",
       "      <th>weekend</th>\n",
       "      <th>season</th>\n",
       "      <th>temperature</th>\n",
       "      <th>dewpoint</th>\n",
       "      <th>humidity</th>\n",
       "      <th>...</th>\n",
       "      <th>windgust</th>\n",
       "      <th>pressure</th>\n",
       "      <th>precip</th>\n",
       "      <th>precipaccum</th>\n",
       "      <th>weather</th>\n",
       "      <th>rental</th>\n",
       "      <th>fall</th>\n",
       "      <th>winter</th>\n",
       "      <th>spring</th>\n",
       "      <th>summer</th>\n",
       "    </tr>\n",
       "  </thead>\n",
       "  <tbody>\n",
       "    <tr>\n",
       "      <th>0</th>\n",
       "      <td>2016</td>\n",
       "      <td>10</td>\n",
       "      <td>1</td>\n",
       "      <td>0</td>\n",
       "      <td>80</td>\n",
       "      <td>1</td>\n",
       "      <td>fall</td>\n",
       "      <td>18.33</td>\n",
       "      <td>65.0</td>\n",
       "      <td>100.0</td>\n",
       "      <td>...</td>\n",
       "      <td>0.0</td>\n",
       "      <td>30.1</td>\n",
       "      <td>0.0</td>\n",
       "      <td>0.0</td>\n",
       "      <td>3</td>\n",
       "      <td>103</td>\n",
       "      <td>1.0</td>\n",
       "      <td>0.0</td>\n",
       "      <td>0.0</td>\n",
       "      <td>0.0</td>\n",
       "    </tr>\n",
       "    <tr>\n",
       "      <th>1</th>\n",
       "      <td>2016</td>\n",
       "      <td>10</td>\n",
       "      <td>1</td>\n",
       "      <td>1</td>\n",
       "      <td>53</td>\n",
       "      <td>1</td>\n",
       "      <td>fall</td>\n",
       "      <td>17.78</td>\n",
       "      <td>64.0</td>\n",
       "      <td>100.0</td>\n",
       "      <td>...</td>\n",
       "      <td>0.0</td>\n",
       "      <td>30.1</td>\n",
       "      <td>0.0</td>\n",
       "      <td>0.0</td>\n",
       "      <td>3</td>\n",
       "      <td>63</td>\n",
       "      <td>1.0</td>\n",
       "      <td>0.0</td>\n",
       "      <td>0.0</td>\n",
       "      <td>0.0</td>\n",
       "    </tr>\n",
       "    <tr>\n",
       "      <th>2</th>\n",
       "      <td>2016</td>\n",
       "      <td>10</td>\n",
       "      <td>1</td>\n",
       "      <td>2</td>\n",
       "      <td>27</td>\n",
       "      <td>1</td>\n",
       "      <td>fall</td>\n",
       "      <td>17.78</td>\n",
       "      <td>64.0</td>\n",
       "      <td>100.0</td>\n",
       "      <td>...</td>\n",
       "      <td>0.0</td>\n",
       "      <td>30.1</td>\n",
       "      <td>0.0</td>\n",
       "      <td>0.0</td>\n",
       "      <td>3</td>\n",
       "      <td>33</td>\n",
       "      <td>1.0</td>\n",
       "      <td>0.0</td>\n",
       "      <td>0.0</td>\n",
       "      <td>0.0</td>\n",
       "    </tr>\n",
       "    <tr>\n",
       "      <th>3</th>\n",
       "      <td>2016</td>\n",
       "      <td>10</td>\n",
       "      <td>1</td>\n",
       "      <td>3</td>\n",
       "      <td>20</td>\n",
       "      <td>1</td>\n",
       "      <td>fall</td>\n",
       "      <td>17.78</td>\n",
       "      <td>64.0</td>\n",
       "      <td>100.0</td>\n",
       "      <td>...</td>\n",
       "      <td>0.0</td>\n",
       "      <td>30.1</td>\n",
       "      <td>0.1</td>\n",
       "      <td>0.0</td>\n",
       "      <td>3</td>\n",
       "      <td>23</td>\n",
       "      <td>1.0</td>\n",
       "      <td>0.0</td>\n",
       "      <td>0.0</td>\n",
       "      <td>0.0</td>\n",
       "    </tr>\n",
       "    <tr>\n",
       "      <th>4</th>\n",
       "      <td>2016</td>\n",
       "      <td>10</td>\n",
       "      <td>1</td>\n",
       "      <td>4</td>\n",
       "      <td>11</td>\n",
       "      <td>1</td>\n",
       "      <td>fall</td>\n",
       "      <td>17.78</td>\n",
       "      <td>64.0</td>\n",
       "      <td>100.0</td>\n",
       "      <td>...</td>\n",
       "      <td>0.0</td>\n",
       "      <td>30.1</td>\n",
       "      <td>0.0</td>\n",
       "      <td>0.0</td>\n",
       "      <td>3</td>\n",
       "      <td>11</td>\n",
       "      <td>1.0</td>\n",
       "      <td>0.0</td>\n",
       "      <td>0.0</td>\n",
       "      <td>0.0</td>\n",
       "    </tr>\n",
       "    <tr>\n",
       "      <th>...</th>\n",
       "      <td>...</td>\n",
       "      <td>...</td>\n",
       "      <td>...</td>\n",
       "      <td>...</td>\n",
       "      <td>...</td>\n",
       "      <td>...</td>\n",
       "      <td>...</td>\n",
       "      <td>...</td>\n",
       "      <td>...</td>\n",
       "      <td>...</td>\n",
       "      <td>...</td>\n",
       "      <td>...</td>\n",
       "      <td>...</td>\n",
       "      <td>...</td>\n",
       "      <td>...</td>\n",
       "      <td>...</td>\n",
       "      <td>...</td>\n",
       "      <td>...</td>\n",
       "      <td>...</td>\n",
       "      <td>...</td>\n",
       "      <td>...</td>\n",
       "    </tr>\n",
       "    <tr>\n",
       "      <th>17461</th>\n",
       "      <td>2018</td>\n",
       "      <td>9</td>\n",
       "      <td>30</td>\n",
       "      <td>19</td>\n",
       "      <td>416</td>\n",
       "      <td>1</td>\n",
       "      <td>fall</td>\n",
       "      <td>21.67</td>\n",
       "      <td>60.0</td>\n",
       "      <td>68.0</td>\n",
       "      <td>...</td>\n",
       "      <td>0.0</td>\n",
       "      <td>30.3</td>\n",
       "      <td>0.0</td>\n",
       "      <td>0.0</td>\n",
       "      <td>2</td>\n",
       "      <td>541</td>\n",
       "      <td>1.0</td>\n",
       "      <td>0.0</td>\n",
       "      <td>0.0</td>\n",
       "      <td>0.0</td>\n",
       "    </tr>\n",
       "    <tr>\n",
       "      <th>17462</th>\n",
       "      <td>2018</td>\n",
       "      <td>9</td>\n",
       "      <td>30</td>\n",
       "      <td>20</td>\n",
       "      <td>278</td>\n",
       "      <td>1</td>\n",
       "      <td>fall</td>\n",
       "      <td>21.67</td>\n",
       "      <td>61.0</td>\n",
       "      <td>70.0</td>\n",
       "      <td>...</td>\n",
       "      <td>0.0</td>\n",
       "      <td>30.3</td>\n",
       "      <td>0.0</td>\n",
       "      <td>0.0</td>\n",
       "      <td>2</td>\n",
       "      <td>379</td>\n",
       "      <td>1.0</td>\n",
       "      <td>0.0</td>\n",
       "      <td>0.0</td>\n",
       "      <td>0.0</td>\n",
       "    </tr>\n",
       "    <tr>\n",
       "      <th>17463</th>\n",
       "      <td>2018</td>\n",
       "      <td>9</td>\n",
       "      <td>30</td>\n",
       "      <td>21</td>\n",
       "      <td>233</td>\n",
       "      <td>1</td>\n",
       "      <td>fall</td>\n",
       "      <td>21.11</td>\n",
       "      <td>62.0</td>\n",
       "      <td>76.0</td>\n",
       "      <td>...</td>\n",
       "      <td>0.0</td>\n",
       "      <td>30.3</td>\n",
       "      <td>0.0</td>\n",
       "      <td>0.0</td>\n",
       "      <td>2</td>\n",
       "      <td>301</td>\n",
       "      <td>1.0</td>\n",
       "      <td>0.0</td>\n",
       "      <td>0.0</td>\n",
       "      <td>0.0</td>\n",
       "    </tr>\n",
       "    <tr>\n",
       "      <th>17464</th>\n",
       "      <td>2018</td>\n",
       "      <td>9</td>\n",
       "      <td>30</td>\n",
       "      <td>22</td>\n",
       "      <td>148</td>\n",
       "      <td>1</td>\n",
       "      <td>fall</td>\n",
       "      <td>20.00</td>\n",
       "      <td>63.0</td>\n",
       "      <td>84.0</td>\n",
       "      <td>...</td>\n",
       "      <td>0.0</td>\n",
       "      <td>30.3</td>\n",
       "      <td>0.0</td>\n",
       "      <td>0.0</td>\n",
       "      <td>2</td>\n",
       "      <td>203</td>\n",
       "      <td>1.0</td>\n",
       "      <td>0.0</td>\n",
       "      <td>0.0</td>\n",
       "      <td>0.0</td>\n",
       "    </tr>\n",
       "    <tr>\n",
       "      <th>17465</th>\n",
       "      <td>2018</td>\n",
       "      <td>9</td>\n",
       "      <td>30</td>\n",
       "      <td>23</td>\n",
       "      <td>83</td>\n",
       "      <td>1</td>\n",
       "      <td>fall</td>\n",
       "      <td>20.00</td>\n",
       "      <td>62.0</td>\n",
       "      <td>81.0</td>\n",
       "      <td>...</td>\n",
       "      <td>0.0</td>\n",
       "      <td>30.3</td>\n",
       "      <td>0.0</td>\n",
       "      <td>0.0</td>\n",
       "      <td>1</td>\n",
       "      <td>113</td>\n",
       "      <td>1.0</td>\n",
       "      <td>0.0</td>\n",
       "      <td>0.0</td>\n",
       "      <td>0.0</td>\n",
       "    </tr>\n",
       "  </tbody>\n",
       "</table>\n",
       "<p>17466 rows × 21 columns</p>\n",
       "</div>"
      ],
      "text/plain": [
       "       year  month  day  hour  member  weekend season  temperature  dewpoint  \\\n",
       "0      2016     10    1     0      80        1   fall        18.33      65.0   \n",
       "1      2016     10    1     1      53        1   fall        17.78      64.0   \n",
       "2      2016     10    1     2      27        1   fall        17.78      64.0   \n",
       "3      2016     10    1     3      20        1   fall        17.78      64.0   \n",
       "4      2016     10    1     4      11        1   fall        17.78      64.0   \n",
       "...     ...    ...  ...   ...     ...      ...    ...          ...       ...   \n",
       "17461  2018      9   30    19     416        1   fall        21.67      60.0   \n",
       "17462  2018      9   30    20     278        1   fall        21.67      61.0   \n",
       "17463  2018      9   30    21     233        1   fall        21.11      62.0   \n",
       "17464  2018      9   30    22     148        1   fall        20.00      63.0   \n",
       "17465  2018      9   30    23      83        1   fall        20.00      62.0   \n",
       "\n",
       "       humidity  ...  windgust  pressure  precip  precipaccum  weather  \\\n",
       "0         100.0  ...       0.0      30.1     0.0          0.0        3   \n",
       "1         100.0  ...       0.0      30.1     0.0          0.0        3   \n",
       "2         100.0  ...       0.0      30.1     0.0          0.0        3   \n",
       "3         100.0  ...       0.0      30.1     0.1          0.0        3   \n",
       "4         100.0  ...       0.0      30.1     0.0          0.0        3   \n",
       "...         ...  ...       ...       ...     ...          ...      ...   \n",
       "17461      68.0  ...       0.0      30.3     0.0          0.0        2   \n",
       "17462      70.0  ...       0.0      30.3     0.0          0.0        2   \n",
       "17463      76.0  ...       0.0      30.3     0.0          0.0        2   \n",
       "17464      84.0  ...       0.0      30.3     0.0          0.0        2   \n",
       "17465      81.0  ...       0.0      30.3     0.0          0.0        1   \n",
       "\n",
       "       rental  fall  winter  spring  summer  \n",
       "0         103   1.0     0.0     0.0     0.0  \n",
       "1          63   1.0     0.0     0.0     0.0  \n",
       "2          33   1.0     0.0     0.0     0.0  \n",
       "3          23   1.0     0.0     0.0     0.0  \n",
       "4          11   1.0     0.0     0.0     0.0  \n",
       "...       ...   ...     ...     ...     ...  \n",
       "17461     541   1.0     0.0     0.0     0.0  \n",
       "17462     379   1.0     0.0     0.0     0.0  \n",
       "17463     301   1.0     0.0     0.0     0.0  \n",
       "17464     203   1.0     0.0     0.0     0.0  \n",
       "17465     113   1.0     0.0     0.0     0.0  \n",
       "\n",
       "[17466 rows x 21 columns]"
      ]
     },
     "execution_count": 7,
     "metadata": {},
     "output_type": "execute_result"
    }
   ],
   "source": [
    "df"
   ]
  },
  {
   "cell_type": "code",
   "execution_count": 8,
   "id": "2abe8a70",
   "metadata": {},
   "outputs": [],
   "source": [
    "# excluding rental and season\n",
    "from sklearn.model_selection import train_test_split\n",
    "Y=df['rental']\n",
    "X=df.drop(['rental','season'],axis=1)\n",
    "X_train, X_test, Y_train, Y_test = train_test_split(X, Y, test_size = 0.2, random_state = 1,shuffle=False)"
   ]
  },
  {
   "cell_type": "code",
   "execution_count": 9,
   "id": "3397267f",
   "metadata": {},
   "outputs": [
    {
     "data": {
      "text/plain": [
       "LinearRegression()"
      ]
     },
     "execution_count": 9,
     "metadata": {},
     "output_type": "execute_result"
    }
   ],
   "source": [
    "model=LinearRegression()\n",
    "model.fit(X_train,Y_train)"
   ]
  },
  {
   "cell_type": "code",
   "execution_count": 10,
   "id": "f114a930",
   "metadata": {},
   "outputs": [],
   "source": [
    "#calculating the mean square and absolute error for the model\n",
    "from sklearn.metrics import mean_squared_error\n",
    "from sklearn.metrics import mean_absolute_error"
   ]
  },
  {
   "cell_type": "code",
   "execution_count": 11,
   "id": "e6ba272c",
   "metadata": {},
   "outputs": [],
   "source": [
    "y_prediction=model.predict(X_train)"
   ]
  },
  {
   "cell_type": "code",
   "execution_count": 12,
   "id": "a729acc8",
   "metadata": {},
   "outputs": [
    {
     "data": {
      "text/plain": [
       "8268.216740340438"
      ]
     },
     "execution_count": 12,
     "metadata": {},
     "output_type": "execute_result"
    }
   ],
   "source": [
    "mean_squared_error(y_prediction,Y_train)"
   ]
  },
  {
   "cell_type": "code",
   "execution_count": 13,
   "id": "79d260be",
   "metadata": {},
   "outputs": [
    {
     "data": {
      "text/plain": [
       "63.387864864032416"
      ]
     },
     "execution_count": 13,
     "metadata": {},
     "output_type": "execute_result"
    }
   ],
   "source": [
    "mean_absolute_error(y_prediction,Y_train)"
   ]
  },
  {
   "cell_type": "code",
   "execution_count": 14,
   "id": "99fe10d0",
   "metadata": {},
   "outputs": [],
   "source": [
    "y_prediction=model.predict(X_test)"
   ]
  },
  {
   "cell_type": "code",
   "execution_count": 15,
   "id": "6f5bbb17",
   "metadata": {},
   "outputs": [
    {
     "data": {
      "text/plain": [
       "75.00271127750783"
      ]
     },
     "execution_count": 15,
     "metadata": {},
     "output_type": "execute_result"
    }
   ],
   "source": [
    "# calculating the mean error for model \n",
    "mean_absolute_error(y_prediction,Y_test)"
   ]
  },
  {
   "cell_type": "code",
   "execution_count": 16,
   "id": "2ec3dff1",
   "metadata": {},
   "outputs": [
    {
     "data": {
      "text/plain": [
       "8885.467010192837"
      ]
     },
     "execution_count": 16,
     "metadata": {},
     "output_type": "execute_result"
    }
   ],
   "source": [
    "# calculating the mean squared error for the model \n",
    "mean_squared_error(y_prediction,Y_test)"
   ]
  },
  {
   "cell_type": "code",
   "execution_count": 17,
   "id": "4128c2e9",
   "metadata": {},
   "outputs": [
    {
     "data": {
      "text/plain": [
       "0.9533161574814717"
      ]
     },
     "execution_count": 17,
     "metadata": {},
     "output_type": "execute_result"
    }
   ],
   "source": [
    "# to check the accuracy of the model\n",
    "model.score(X_test,Y_test)"
   ]
  },
  {
   "cell_type": "code",
   "execution_count": 18,
   "id": "69b20a0d",
   "metadata": {},
   "outputs": [
    {
     "data": {
      "text/plain": [
       "array([ 8.34659207e-02, -4.21773790e-01,  2.48423225e-01,  1.07057248e+00,\n",
       "        1.13426637e+00,  9.55919488e+01,  1.08715920e+01, -1.75036612e+00,\n",
       "       -1.07790067e+00, -4.32799164e-01,  1.80903879e-01,  4.15609871e+01,\n",
       "        6.44798594e+01, -5.43717905e+01,  8.24099570e+00, -5.83878009e+00,\n",
       "        1.56480437e+01, -1.82133413e+01,  8.40407769e+00])"
      ]
     },
     "execution_count": 18,
     "metadata": {},
     "output_type": "execute_result"
    }
   ],
   "source": [
    "model.coef_"
   ]
  },
  {
   "cell_type": "code",
   "execution_count": 19,
   "id": "2fbcdfdc",
   "metadata": {},
   "outputs": [
    {
     "data": {
      "text/plain": [
       "13"
      ]
     },
     "execution_count": 19,
     "metadata": {},
     "output_type": "execute_result"
    }
   ],
   "source": [
    "# we are finding the minimum important feature in the model for predicting\n",
    "np.argmin(model.coef_)"
   ]
  },
  {
   "cell_type": "code",
   "execution_count": 20,
   "id": "cab34a20",
   "metadata": {},
   "outputs": [
    {
     "data": {
      "text/plain": [
       "5"
      ]
     },
     "execution_count": 20,
     "metadata": {},
     "output_type": "execute_result"
    }
   ],
   "source": [
    "# we are finding the most important feature in the model for predicting the rental\n",
    "np.argmax(model.coef_)"
   ]
  },
  {
   "cell_type": "code",
   "execution_count": 21,
   "id": "21874a2c",
   "metadata": {},
   "outputs": [],
   "source": [
    "# In time series problem the previous data has huge influence in predicting the next data\n",
    "# we are improving the linear regression modelby reducing the values of error\n",
    "# we are removing the bottom column of rental \n",
    "x1=df['rental'][:-1]"
   ]
  },
  {
   "cell_type": "code",
   "execution_count": 22,
   "id": "cd67c87e",
   "metadata": {},
   "outputs": [],
   "source": [
    "x1=np.array(x1)"
   ]
  },
  {
   "cell_type": "code",
   "execution_count": 23,
   "id": "59ecc933",
   "metadata": {},
   "outputs": [
    {
     "data": {
      "text/plain": [
       "17465"
      ]
     },
     "execution_count": 23,
     "metadata": {},
     "output_type": "execute_result"
    }
   ],
   "source": [
    "len(x1)"
   ]
  },
  {
   "cell_type": "code",
   "execution_count": 24,
   "id": "b682b3e2",
   "metadata": {},
   "outputs": [],
   "source": [
    "# we are removing the first row of data for predicting the next inorder combine of equal length and predicting\n",
    "df= df.iloc[1: , :]"
   ]
  },
  {
   "cell_type": "code",
   "execution_count": 25,
   "id": "c7cc11f3",
   "metadata": {},
   "outputs": [
    {
     "name": "stderr",
     "output_type": "stream",
     "text": [
      "C:\\Users\\91996\\AppData\\Local\\Temp\\ipykernel_14104\\3477175637.py:1: SettingWithCopyWarning: \n",
      "A value is trying to be set on a copy of a slice from a DataFrame.\n",
      "Try using .loc[row_indexer,col_indexer] = value instead\n",
      "\n",
      "See the caveats in the documentation: https://pandas.pydata.org/pandas-docs/stable/user_guide/indexing.html#returning-a-view-versus-a-copy\n",
      "  df['previous data for the current ']=x1\n"
     ]
    }
   ],
   "source": [
    "df['previous data for the current ']=x1"
   ]
  },
  {
   "cell_type": "code",
   "execution_count": 26,
   "id": "1a0508ba",
   "metadata": {},
   "outputs": [
    {
     "data": {
      "text/html": [
       "<div>\n",
       "<style scoped>\n",
       "    .dataframe tbody tr th:only-of-type {\n",
       "        vertical-align: middle;\n",
       "    }\n",
       "\n",
       "    .dataframe tbody tr th {\n",
       "        vertical-align: top;\n",
       "    }\n",
       "\n",
       "    .dataframe thead th {\n",
       "        text-align: right;\n",
       "    }\n",
       "</style>\n",
       "<table border=\"1\" class=\"dataframe\">\n",
       "  <thead>\n",
       "    <tr style=\"text-align: right;\">\n",
       "      <th></th>\n",
       "      <th>year</th>\n",
       "      <th>month</th>\n",
       "      <th>day</th>\n",
       "      <th>hour</th>\n",
       "      <th>member</th>\n",
       "      <th>weekend</th>\n",
       "      <th>season</th>\n",
       "      <th>temperature</th>\n",
       "      <th>dewpoint</th>\n",
       "      <th>humidity</th>\n",
       "      <th>...</th>\n",
       "      <th>pressure</th>\n",
       "      <th>precip</th>\n",
       "      <th>precipaccum</th>\n",
       "      <th>weather</th>\n",
       "      <th>rental</th>\n",
       "      <th>fall</th>\n",
       "      <th>winter</th>\n",
       "      <th>spring</th>\n",
       "      <th>summer</th>\n",
       "      <th>previous data for the current</th>\n",
       "    </tr>\n",
       "  </thead>\n",
       "  <tbody>\n",
       "    <tr>\n",
       "      <th>1</th>\n",
       "      <td>2016</td>\n",
       "      <td>10</td>\n",
       "      <td>1</td>\n",
       "      <td>1</td>\n",
       "      <td>53</td>\n",
       "      <td>1</td>\n",
       "      <td>fall</td>\n",
       "      <td>17.78</td>\n",
       "      <td>64.0</td>\n",
       "      <td>100.0</td>\n",
       "      <td>...</td>\n",
       "      <td>30.1</td>\n",
       "      <td>0.0</td>\n",
       "      <td>0.0</td>\n",
       "      <td>3</td>\n",
       "      <td>63</td>\n",
       "      <td>1.0</td>\n",
       "      <td>0.0</td>\n",
       "      <td>0.0</td>\n",
       "      <td>0.0</td>\n",
       "      <td>103</td>\n",
       "    </tr>\n",
       "    <tr>\n",
       "      <th>2</th>\n",
       "      <td>2016</td>\n",
       "      <td>10</td>\n",
       "      <td>1</td>\n",
       "      <td>2</td>\n",
       "      <td>27</td>\n",
       "      <td>1</td>\n",
       "      <td>fall</td>\n",
       "      <td>17.78</td>\n",
       "      <td>64.0</td>\n",
       "      <td>100.0</td>\n",
       "      <td>...</td>\n",
       "      <td>30.1</td>\n",
       "      <td>0.0</td>\n",
       "      <td>0.0</td>\n",
       "      <td>3</td>\n",
       "      <td>33</td>\n",
       "      <td>1.0</td>\n",
       "      <td>0.0</td>\n",
       "      <td>0.0</td>\n",
       "      <td>0.0</td>\n",
       "      <td>63</td>\n",
       "    </tr>\n",
       "    <tr>\n",
       "      <th>3</th>\n",
       "      <td>2016</td>\n",
       "      <td>10</td>\n",
       "      <td>1</td>\n",
       "      <td>3</td>\n",
       "      <td>20</td>\n",
       "      <td>1</td>\n",
       "      <td>fall</td>\n",
       "      <td>17.78</td>\n",
       "      <td>64.0</td>\n",
       "      <td>100.0</td>\n",
       "      <td>...</td>\n",
       "      <td>30.1</td>\n",
       "      <td>0.1</td>\n",
       "      <td>0.0</td>\n",
       "      <td>3</td>\n",
       "      <td>23</td>\n",
       "      <td>1.0</td>\n",
       "      <td>0.0</td>\n",
       "      <td>0.0</td>\n",
       "      <td>0.0</td>\n",
       "      <td>33</td>\n",
       "    </tr>\n",
       "    <tr>\n",
       "      <th>4</th>\n",
       "      <td>2016</td>\n",
       "      <td>10</td>\n",
       "      <td>1</td>\n",
       "      <td>4</td>\n",
       "      <td>11</td>\n",
       "      <td>1</td>\n",
       "      <td>fall</td>\n",
       "      <td>17.78</td>\n",
       "      <td>64.0</td>\n",
       "      <td>100.0</td>\n",
       "      <td>...</td>\n",
       "      <td>30.1</td>\n",
       "      <td>0.0</td>\n",
       "      <td>0.0</td>\n",
       "      <td>3</td>\n",
       "      <td>11</td>\n",
       "      <td>1.0</td>\n",
       "      <td>0.0</td>\n",
       "      <td>0.0</td>\n",
       "      <td>0.0</td>\n",
       "      <td>23</td>\n",
       "    </tr>\n",
       "    <tr>\n",
       "      <th>5</th>\n",
       "      <td>2016</td>\n",
       "      <td>10</td>\n",
       "      <td>1</td>\n",
       "      <td>5</td>\n",
       "      <td>14</td>\n",
       "      <td>1</td>\n",
       "      <td>fall</td>\n",
       "      <td>17.78</td>\n",
       "      <td>64.0</td>\n",
       "      <td>100.0</td>\n",
       "      <td>...</td>\n",
       "      <td>30.1</td>\n",
       "      <td>0.0</td>\n",
       "      <td>0.0</td>\n",
       "      <td>3</td>\n",
       "      <td>15</td>\n",
       "      <td>1.0</td>\n",
       "      <td>0.0</td>\n",
       "      <td>0.0</td>\n",
       "      <td>0.0</td>\n",
       "      <td>11</td>\n",
       "    </tr>\n",
       "    <tr>\n",
       "      <th>...</th>\n",
       "      <td>...</td>\n",
       "      <td>...</td>\n",
       "      <td>...</td>\n",
       "      <td>...</td>\n",
       "      <td>...</td>\n",
       "      <td>...</td>\n",
       "      <td>...</td>\n",
       "      <td>...</td>\n",
       "      <td>...</td>\n",
       "      <td>...</td>\n",
       "      <td>...</td>\n",
       "      <td>...</td>\n",
       "      <td>...</td>\n",
       "      <td>...</td>\n",
       "      <td>...</td>\n",
       "      <td>...</td>\n",
       "      <td>...</td>\n",
       "      <td>...</td>\n",
       "      <td>...</td>\n",
       "      <td>...</td>\n",
       "      <td>...</td>\n",
       "    </tr>\n",
       "    <tr>\n",
       "      <th>17461</th>\n",
       "      <td>2018</td>\n",
       "      <td>9</td>\n",
       "      <td>30</td>\n",
       "      <td>19</td>\n",
       "      <td>416</td>\n",
       "      <td>1</td>\n",
       "      <td>fall</td>\n",
       "      <td>21.67</td>\n",
       "      <td>60.0</td>\n",
       "      <td>68.0</td>\n",
       "      <td>...</td>\n",
       "      <td>30.3</td>\n",
       "      <td>0.0</td>\n",
       "      <td>0.0</td>\n",
       "      <td>2</td>\n",
       "      <td>541</td>\n",
       "      <td>1.0</td>\n",
       "      <td>0.0</td>\n",
       "      <td>0.0</td>\n",
       "      <td>0.0</td>\n",
       "      <td>887</td>\n",
       "    </tr>\n",
       "    <tr>\n",
       "      <th>17462</th>\n",
       "      <td>2018</td>\n",
       "      <td>9</td>\n",
       "      <td>30</td>\n",
       "      <td>20</td>\n",
       "      <td>278</td>\n",
       "      <td>1</td>\n",
       "      <td>fall</td>\n",
       "      <td>21.67</td>\n",
       "      <td>61.0</td>\n",
       "      <td>70.0</td>\n",
       "      <td>...</td>\n",
       "      <td>30.3</td>\n",
       "      <td>0.0</td>\n",
       "      <td>0.0</td>\n",
       "      <td>2</td>\n",
       "      <td>379</td>\n",
       "      <td>1.0</td>\n",
       "      <td>0.0</td>\n",
       "      <td>0.0</td>\n",
       "      <td>0.0</td>\n",
       "      <td>541</td>\n",
       "    </tr>\n",
       "    <tr>\n",
       "      <th>17463</th>\n",
       "      <td>2018</td>\n",
       "      <td>9</td>\n",
       "      <td>30</td>\n",
       "      <td>21</td>\n",
       "      <td>233</td>\n",
       "      <td>1</td>\n",
       "      <td>fall</td>\n",
       "      <td>21.11</td>\n",
       "      <td>62.0</td>\n",
       "      <td>76.0</td>\n",
       "      <td>...</td>\n",
       "      <td>30.3</td>\n",
       "      <td>0.0</td>\n",
       "      <td>0.0</td>\n",
       "      <td>2</td>\n",
       "      <td>301</td>\n",
       "      <td>1.0</td>\n",
       "      <td>0.0</td>\n",
       "      <td>0.0</td>\n",
       "      <td>0.0</td>\n",
       "      <td>379</td>\n",
       "    </tr>\n",
       "    <tr>\n",
       "      <th>17464</th>\n",
       "      <td>2018</td>\n",
       "      <td>9</td>\n",
       "      <td>30</td>\n",
       "      <td>22</td>\n",
       "      <td>148</td>\n",
       "      <td>1</td>\n",
       "      <td>fall</td>\n",
       "      <td>20.00</td>\n",
       "      <td>63.0</td>\n",
       "      <td>84.0</td>\n",
       "      <td>...</td>\n",
       "      <td>30.3</td>\n",
       "      <td>0.0</td>\n",
       "      <td>0.0</td>\n",
       "      <td>2</td>\n",
       "      <td>203</td>\n",
       "      <td>1.0</td>\n",
       "      <td>0.0</td>\n",
       "      <td>0.0</td>\n",
       "      <td>0.0</td>\n",
       "      <td>301</td>\n",
       "    </tr>\n",
       "    <tr>\n",
       "      <th>17465</th>\n",
       "      <td>2018</td>\n",
       "      <td>9</td>\n",
       "      <td>30</td>\n",
       "      <td>23</td>\n",
       "      <td>83</td>\n",
       "      <td>1</td>\n",
       "      <td>fall</td>\n",
       "      <td>20.00</td>\n",
       "      <td>62.0</td>\n",
       "      <td>81.0</td>\n",
       "      <td>...</td>\n",
       "      <td>30.3</td>\n",
       "      <td>0.0</td>\n",
       "      <td>0.0</td>\n",
       "      <td>1</td>\n",
       "      <td>113</td>\n",
       "      <td>1.0</td>\n",
       "      <td>0.0</td>\n",
       "      <td>0.0</td>\n",
       "      <td>0.0</td>\n",
       "      <td>203</td>\n",
       "    </tr>\n",
       "  </tbody>\n",
       "</table>\n",
       "<p>17465 rows × 22 columns</p>\n",
       "</div>"
      ],
      "text/plain": [
       "       year  month  day  hour  member  weekend season  temperature  dewpoint  \\\n",
       "1      2016     10    1     1      53        1   fall        17.78      64.0   \n",
       "2      2016     10    1     2      27        1   fall        17.78      64.0   \n",
       "3      2016     10    1     3      20        1   fall        17.78      64.0   \n",
       "4      2016     10    1     4      11        1   fall        17.78      64.0   \n",
       "5      2016     10    1     5      14        1   fall        17.78      64.0   \n",
       "...     ...    ...  ...   ...     ...      ...    ...          ...       ...   \n",
       "17461  2018      9   30    19     416        1   fall        21.67      60.0   \n",
       "17462  2018      9   30    20     278        1   fall        21.67      61.0   \n",
       "17463  2018      9   30    21     233        1   fall        21.11      62.0   \n",
       "17464  2018      9   30    22     148        1   fall        20.00      63.0   \n",
       "17465  2018      9   30    23      83        1   fall        20.00      62.0   \n",
       "\n",
       "       humidity  ...  pressure  precip  precipaccum  weather  rental  fall  \\\n",
       "1         100.0  ...      30.1     0.0          0.0        3      63   1.0   \n",
       "2         100.0  ...      30.1     0.0          0.0        3      33   1.0   \n",
       "3         100.0  ...      30.1     0.1          0.0        3      23   1.0   \n",
       "4         100.0  ...      30.1     0.0          0.0        3      11   1.0   \n",
       "5         100.0  ...      30.1     0.0          0.0        3      15   1.0   \n",
       "...         ...  ...       ...     ...          ...      ...     ...   ...   \n",
       "17461      68.0  ...      30.3     0.0          0.0        2     541   1.0   \n",
       "17462      70.0  ...      30.3     0.0          0.0        2     379   1.0   \n",
       "17463      76.0  ...      30.3     0.0          0.0        2     301   1.0   \n",
       "17464      84.0  ...      30.3     0.0          0.0        2     203   1.0   \n",
       "17465      81.0  ...      30.3     0.0          0.0        1     113   1.0   \n",
       "\n",
       "       winter  spring  summer  previous data for the current   \n",
       "1         0.0     0.0     0.0                             103  \n",
       "2         0.0     0.0     0.0                              63  \n",
       "3         0.0     0.0     0.0                              33  \n",
       "4         0.0     0.0     0.0                              23  \n",
       "5         0.0     0.0     0.0                              11  \n",
       "...       ...     ...     ...                             ...  \n",
       "17461     0.0     0.0     0.0                             887  \n",
       "17462     0.0     0.0     0.0                             541  \n",
       "17463     0.0     0.0     0.0                             379  \n",
       "17464     0.0     0.0     0.0                             301  \n",
       "17465     0.0     0.0     0.0                             203  \n",
       "\n",
       "[17465 rows x 22 columns]"
      ]
     },
     "execution_count": 26,
     "metadata": {},
     "output_type": "execute_result"
    }
   ],
   "source": [
    "# we are successfully created 1 more new feature called \" previous data for the current \"to predict next values\n",
    "df"
   ]
  },
  {
   "cell_type": "code",
   "execution_count": 27,
   "id": "8fe4457c",
   "metadata": {},
   "outputs": [],
   "source": [
    "# Training with All Features Except rental and season\n",
    "from sklearn.model_selection import train_test_split\n",
    "Y=df['rental']\n",
    "X=df.drop(['rental','season'],axis=1)\n",
    "X_train, X_test, Y_train, Y_test = train_test_split(X, Y, test_size = 0.2, random_state = 1,shuffle=False)"
   ]
  },
  {
   "cell_type": "code",
   "execution_count": 28,
   "id": "4c0f78ac",
   "metadata": {},
   "outputs": [
    {
     "data": {
      "text/plain": [
       "LinearRegression()"
      ]
     },
     "execution_count": 28,
     "metadata": {},
     "output_type": "execute_result"
    }
   ],
   "source": [
    "model=LinearRegression()\n",
    "model.fit(X_train,Y_train)"
   ]
  },
  {
   "cell_type": "code",
   "execution_count": 29,
   "id": "e1ebd327",
   "metadata": {},
   "outputs": [],
   "source": [
    "# finding the mean squared and absolute error\n",
    "from sklearn.metrics import mean_squared_error\n",
    "from sklearn.metrics import mean_absolute_error"
   ]
  },
  {
   "cell_type": "code",
   "execution_count": 30,
   "id": "ce85a97e",
   "metadata": {},
   "outputs": [],
   "source": [
    "y_prediction=model.predict(X_train)"
   ]
  },
  {
   "cell_type": "code",
   "execution_count": 31,
   "id": "04691ec1",
   "metadata": {},
   "outputs": [
    {
     "data": {
      "text/plain": [
       "6741.441717165256"
      ]
     },
     "execution_count": 31,
     "metadata": {},
     "output_type": "execute_result"
    }
   ],
   "source": [
    "mean_squared_error(y_prediction,Y_train)"
   ]
  },
  {
   "cell_type": "code",
   "execution_count": 32,
   "id": "fda6fa75",
   "metadata": {},
   "outputs": [
    {
     "data": {
      "text/plain": [
       "58.12522652917722"
      ]
     },
     "execution_count": 32,
     "metadata": {},
     "output_type": "execute_result"
    }
   ],
   "source": [
    "mean_absolute_error(y_prediction,Y_train)"
   ]
  },
  {
   "cell_type": "code",
   "execution_count": 33,
   "id": "ae79f087",
   "metadata": {},
   "outputs": [],
   "source": [
    "y_prediction=model.predict(X_test)"
   ]
  },
  {
   "cell_type": "code",
   "execution_count": 34,
   "id": "fb373edd",
   "metadata": {},
   "outputs": [
    {
     "data": {
      "text/plain": [
       "64.07097908994099"
      ]
     },
     "execution_count": 34,
     "metadata": {},
     "output_type": "execute_result"
    }
   ],
   "source": [
    "# we can see that the mean absolute error has decreased from 74 to 64, which improved our model\n",
    "mean_absolute_error(y_prediction,Y_test)"
   ]
  },
  {
   "cell_type": "code",
   "execution_count": 35,
   "id": "b08381f9",
   "metadata": {},
   "outputs": [
    {
     "data": {
      "text/plain": [
       "7049.011676494739"
      ]
     },
     "execution_count": 35,
     "metadata": {},
     "output_type": "execute_result"
    }
   ],
   "source": [
    "mean_squared_error(y_prediction,Y_test)"
   ]
  },
  {
   "cell_type": "code",
   "execution_count": 36,
   "id": "e41d21bb",
   "metadata": {},
   "outputs": [
    {
     "data": {
      "text/plain": [
       "0.9629607507013979"
      ]
     },
     "execution_count": 36,
     "metadata": {},
     "output_type": "execute_result"
    }
   ],
   "source": [
    "# to check the accuracy of the model\n",
    "model.score(X_test,Y_test)"
   ]
  },
  {
   "cell_type": "code",
   "execution_count": null,
   "id": "5d355429",
   "metadata": {},
   "outputs": [],
   "source": []
  }
 ],
 "metadata": {
  "kernelspec": {
   "display_name": "Python 3 (ipykernel)",
   "language": "python",
   "name": "python3"
  },
  "language_info": {
   "codemirror_mode": {
    "name": "ipython",
    "version": 3
   },
   "file_extension": ".py",
   "mimetype": "text/x-python",
   "name": "python",
   "nbconvert_exporter": "python",
   "pygments_lexer": "ipython3",
   "version": "3.9.12"
  }
 },
 "nbformat": 4,
 "nbformat_minor": 5
}
